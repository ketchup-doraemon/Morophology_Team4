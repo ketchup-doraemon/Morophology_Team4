{
 "cells": [
  {
   "cell_type": "code",
   "execution_count": 10,
   "metadata": {},
   "outputs": [],
   "source": [
    "__author__ = 'Daisuke Yoda'\n",
    "__Date__ = 'December 2018'"
   ]
  },
  {
   "cell_type": "markdown",
   "metadata": {},
   "source": [
    "## Loading Modules"
   ]
  },
  {
   "cell_type": "code",
   "execution_count": 11,
   "metadata": {},
   "outputs": [],
   "source": [
    "import warnings\n",
    "warnings.filterwarnings('ignore')\n",
    "\n",
    "import numpy as np\n",
    "import matplotlib.pyplot as plt\n",
    "from chainer import Chain, Variable, optimizers\n",
    "import chainer.functions as F\n",
    "import chainer.links as L\n",
    "from copy import deepcopy"
   ]
  },
  {
   "cell_type": "markdown",
   "metadata": {},
   "source": [
    "## The LSTM Model"
   ]
  },
  {
   "cell_type": "code",
   "execution_count": 12,
   "metadata": {},
   "outputs": [],
   "source": [
    "class LSTM(Chain):\n",
    "    def __init__(self, in_size, hidden_size, hidden2_size, out_size):\n",
    "        super(LSTM, self).__init__(\n",
    "            xh=L.EmbedID(in_size, hidden_size),\n",
    "            hh=L.LSTM(hidden_size, hidden2_size),\n",
    "            hh2=L.Linear(hidden2_size, hidden2_size),\n",
    "            hy=L.Linear(hidden2_size, out_size),\n",
    "        )\n",
    "\n",
    "    def __call__(self, x, t):\n",
    "        x = Variable(x)\n",
    "        t = Variable(t)\n",
    "\n",
    "        h = self.xh(x)\n",
    "        h = F.dropout(h,0.1)\n",
    "        h = F.tanh(h)\n",
    "        h = self.hh(h)\n",
    "        h = self.hh2(h)\n",
    "        h = F.dropout(h,0.1)\n",
    "        y = F.relu(self.hy(h))\n",
    "\n",
    "        return F.softmax_cross_entropy(y, t)\n",
    "\n",
    "    def predict(self, x):\n",
    "        x = Variable(x)\n",
    "\n",
    "        h = self.xh(x)\n",
    "        h = F.tanh(h)\n",
    "        h = self.hh(h)\n",
    "        h = self.hh2(h)\n",
    "        h = F.relu(self.hy(h))\n",
    "        y = F.softmax(h)\n",
    "\n",
    "        return y.data\n",
    "\n",
    "    def reset(self):\n",
    "        self.hh.reset_state()"
   ]
  },
  {
   "cell_type": "markdown",
   "metadata": {},
   "source": [
    "## Functions for arrangement"
   ]
  },
  {
   "cell_type": "code",
   "execution_count": 13,
   "metadata": {},
   "outputs": [],
   "source": [
    "def padding(sentences):\n",
    "    max_len = np.max([len(s) for s in sentences])\n",
    "    paded_vec = []\n",
    "    for sentence in sentences:\n",
    "        pad_len = max_len - len(sentence)\n",
    "        pad_vec = [26] * pad_len\n",
    "        sentence.extend(pad_vec)\n",
    "        paded_vec.append(sentence)\n",
    "\n",
    "    return np.array(paded_vec,dtype=np.int32)\n",
    "\n",
    "def one_hot_encoding(indices,n_class=27):\n",
    "    return np.eye(n_class)[indices]\n",
    "\n",
    "def word_to_index(word):\n",
    "    word_index = [ord (char) - 97 for char in word]\n",
    "    return word_index"
   ]
  },
  {
   "cell_type": "markdown",
   "metadata": {},
   "source": [
    "## Preparing the dataset and convert it to vector expression"
   ]
  },
  {
   "cell_type": "code",
   "execution_count": 14,
   "metadata": {},
   "outputs": [],
   "source": [
    "training_data = ['create', 'creative', 'creation', 'created', 'creating', 'creats', 'creater']\n",
    "training_data = [word_to_index(x) for x in training_data]"
   ]
  },
  {
   "cell_type": "markdown",
   "metadata": {},
   "source": [
    "## Defining the LSTM model and setting the optimizer"
   ]
  },
  {
   "cell_type": "code",
   "execution_count": 15,
   "metadata": {},
   "outputs": [
    {
     "data": {
      "text/plain": [
       "<chainer.optimizers.adam.Adam at 0x12836808208>"
      ]
     },
     "execution_count": 15,
     "metadata": {},
     "output_type": "execute_result"
    }
   ],
   "source": [
    "model = LSTM(27,50,10,27)\n",
    "optimizer = optimizers.Adam()\n",
    "optimizer.setup(model)"
   ]
  },
  {
   "cell_type": "markdown",
   "metadata": {},
   "source": [
    "## Training"
   ]
  },
  {
   "cell_type": "code",
   "execution_count": 16,
   "metadata": {},
   "outputs": [
    {
     "data": {
      "image/png": "[encoded data removed]",
      "text/plain": [
       "<Figure size 432x288 with 1 Axes>"
      ]
     },
     "metadata": {},
     "output_type": "display_data"
    }
   ],
   "source": [
    "loss_record = []\n",
    "for i in range(1000):\n",
    "    model.reset()\n",
    "    model.cleargrads()\n",
    "    training_sample = deepcopy(np.random.permutation(training_data))\n",
    "    training_sample = padding(training_data).T\n",
    "    loss = 0\n",
    "    trainX = training_sample[:-1]\n",
    "    trainY = training_sample[1:]\n",
    "    for X,Y in zip(trainX,trainY):\n",
    "        loss += model(X,Y)\n",
    "\n",
    "    loss_record.append(float(loss.data))\n",
    "    loss.backward()\n",
    "    optimizer.update()\n",
    "\n",
    "plt.plot(loss_record)\n",
    "plt.xlabel('Epoch')\n",
    "plt.ylabel('Loss')\n",
    "plt.title('Cross Entropy Loss of Model2')\n",
    "plt.show()"
   ]
  },
  {
   "cell_type": "code",
   "execution_count": 35,
   "metadata": {},
   "outputs": [
    {
     "name": "stdout",
     "output_type": "stream",
     "text": [
      "input c : [('r', 0.99548), ('t', 0.00179), ('n', 0.00072)]\n",
      "input r : [('e', 0.99745), ('i', 0.00174), ('t', 0.0005)]\n",
      "input e : [('a', 0.99527), ('t', 0.00227), ('r', 0.001)]\n",
      "input a : [('t', 0.998), ('r', 0.00102), ('a', 0.00033)]\n",
      "input t : [('e', 0.42572), ('i', 0.41902), ('s', 0.14136)]\n",
      "input e : [('d', 0.34283), ('end', 0.31297), ('r', 0.27386)]\n",
      "input d : [('end', 0.99752), ('d', 0.00117), ('e', 0.00073)]\n"
     ]
    }
   ],
   "source": [
    "char = np.array(word_to_index('c'))\n",
    "model.reset()\n",
    "model.train = False\n",
    "\n",
    "while True:\n",
    "    y = model.predict(char)\n",
    "\n",
    "    pred = np.apply_along_axis(chr,0, np.argsort(y) + 97)[::-1]\n",
    "    pred = np.where(pred=='{','end',pred)\n",
    "    prob = np.sort(y)[0][::-1]\n",
    "    prob = np.round(prob,5)\n",
    "    cadidate = [(char,p) for char,p in zip(pred[:3],prob[:3])]\n",
    "    print('input',chr(char[0]+97),':',cadidate)\n",
    "\n",
    "    char = np.array([np.argmax(y)], dtype=np.int32)\n",
    "\n",
    "    if char[0] == 26:\n",
    "        break"
   ]
  },
  {
   "cell_type": "code",
   "execution_count": null,
   "metadata": {},
   "outputs": [],
   "source": []
  },
  {
   "cell_type": "code",
   "execution_count": null,
   "metadata": {},
   "outputs": [],
   "source": []
  },
  {
   "cell_type": "code",
   "execution_count": null,
   "metadata": {},
   "outputs": [],
   "source": []
  }
 ],
 "metadata": {
  "kernelspec": {
   "display_name": "Python 3",
   "language": "python",
   "name": "python3"
  },
  "language_info": {
   "codemirror_mode": {
    "name": "ipython",
    "version": 3
   },
   "file_extension": ".py",
   "mimetype": "text/x-python",
   "name": "python",
   "nbconvert_exporter": "python",
   "pygments_lexer": "ipython3",
   "version": "3.6.5"
  }
 },
 "nbformat": 4,
 "nbformat_minor": 2
}
