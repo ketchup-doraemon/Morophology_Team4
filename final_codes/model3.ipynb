{
 "cells": [
  {
   "cell_type": "code",
   "execution_count": 1,
   "metadata": {},
   "outputs": [],
   "source": [
    "__author__ = 'Daisuke Yoda'\n",
    "__Date__ = 'December 2018'"
   ]
  },
  {
   "cell_type": "markdown",
   "metadata": {},
   "source": [
    "## Loading Modules"
   ]
  },
  {
   "cell_type": "code",
   "execution_count": 2,
   "metadata": {},
   "outputs": [],
   "source": [
    "import warnings\n",
    "warnings.filterwarnings('ignore')\n",
    "\n",
    "import pandas as pd\n",
    "import numpy as np\n",
    "import os\n",
    "from matplotlib import pyplot as plt\n",
    "__dir__ = os.getcwd()[:-11]\n",
    "\n",
    "from chainer import Chain, Variable, optimizers\n",
    "import chainer.functions as F\n",
    "import chainer.links as L\n",
    "\n",
    "from gensim.models.keyedvectors import KeyedVectors"
   ]
  },
  {
   "cell_type": "markdown",
   "metadata": {},
   "source": [
    "## Define The three networks"
   ]
  },
  {
   "cell_type": "code",
   "execution_count": 129,
   "metadata": {},
   "outputs": [],
   "source": [
    "class First_Network(Chain):\n",
    "    def __init__(self, in_size, hidden_size, out_size):\n",
    "        super(First_Network, self).__init__(\n",
    "            hh = L.Linear(in_size, hidden_size),\n",
    "            hy = L.Linear(hidden_size, out_size),\n",
    "        )\n",
    "\n",
    "    def __call__(self, x):\n",
    "        x = Variable(x)\n",
    "        h = self.hh(x)\n",
    "        h = F.dropout(h,0.3)\n",
    "        h = F.relu(h)\n",
    "        y = self.hy(h)\n",
    "        y = F.softmax(y)\n",
    "\n",
    "        return y\n",
    "\n",
    "\n",
    "class Second_Network(Chain):\n",
    "    def __init__(self,vocab_size, in_size, out_size):\n",
    "        super(Second_Network, self).__init__(\n",
    "            xh=L.EmbedID(vocab_size, in_size),\n",
    "            hh=L.LSTM(in_size, out_size),\n",
    "        )\n",
    "\n",
    "    def forward(self, x):\n",
    "        #x = Variable(x)\n",
    "        x = self.xh(x)\n",
    "        if self.i == 0:\n",
    "            self.x = x\n",
    "        y = self.hh(x)\n",
    "\n",
    "        return y\n",
    "\n",
    "    def __call__(self,word):\n",
    "        self.reset()\n",
    "        \n",
    "        self.i = 0\n",
    "        \"\"\"\n",
    "        if word == []:\n",
    "            return self.forward(np.array([0],dtype=np.int32))\n",
    "        \"\"\"\n",
    "        for char in word:\n",
    "            out = self.forward(char)\n",
    "            self.i += 1\n",
    "\n",
    "        return out\n",
    "\n",
    "    def reset(self):\n",
    "        self.hh.reset_state()\n",
    "\n",
    "\n",
    "class Third_Network(Chain):\n",
    "    def __init__(self, in_size, hidden_size, out_size):\n",
    "        super(Third_Network, self).__init__(\n",
    "            hh1 = L.Linear(in_size, hidden_size),\n",
    "            hh2 =L.Linear(in_size, hidden_size),\n",
    "            hy = L.Linear(hidden_size*2, out_size),\n",
    "        )\n",
    "\n",
    "    def __call__(self, x1,x2,t):\n",
    "        t = Variable(t)\n",
    "        h1 = self.hh1(x1)\n",
    "        h2 = self.hh2(x2)\n",
    "        h1 = F.dropout(h1,0.3)\n",
    "        h2 = F.dropout(h2, 0.3)\n",
    "        h1 = F.relu(h1)\n",
    "        h2 = F.relu(h2)\n",
    "        h = F.concat([h1, h2])\n",
    "        out = self.hy(h)\n",
    "        out = F.tanh(out)\n",
    "        out = F.normalize(out)\n",
    "\n",
    "        return F.mean_squared_error(out,t)"
   ]
  },
  {
   "cell_type": "markdown",
   "metadata": {},
   "source": [
    "## Dataset"
   ]
  },
  {
   "cell_type": "code",
   "execution_count": 182,
   "metadata": {},
   "outputs": [],
   "source": [
    "def word_to_index(word):\n",
    "    word_index = [ord (char) - 97 for char in word]\n",
    "    return word_index\n",
    "\n",
    "word_vectors = KeyedVectors.load_word2vec_format(__dir__ + 'data/glove.6B.100d.bin')\n",
    "df = pd.read_csv(__dir__ + 'data/split_point_2.csv',index_col=0)\n",
    "df = df[np.random.permutation(df.columns.values)]\n",
    "training_data = [np.array(word_to_index(x)) for x in df.columns]\n",
    "word_vec = np.array([word_vectors.get_vector(word) for word in df.columns], dtype=np.float32)"
   ]
  },
  {
   "cell_type": "markdown",
   "metadata": {},
   "source": [
    "## Defining the three network"
   ]
  },
  {
   "cell_type": "code",
   "execution_count": 188,
   "metadata": {},
   "outputs": [
    {
     "data": {
      "text/plain": [
       "<chainer.optimizers.adam.Adam at 0x24b802ac470>"
      ]
     },
     "execution_count": 188,
     "metadata": {},
     "output_type": "execute_result"
    }
   ],
   "source": [
    "first_net = First_Network(100,30,17)\n",
    "second_net = Second_Network(27,30, 50)\n",
    "second_net2 = Second_Network(27, 30, 50)\n",
    "third_net = Third_Network(50, 50, 100)\n",
    "\n",
    "optimizer1 = optimizers.Adam()\n",
    "optimizer1.setup(first_net)\n",
    "\n",
    "optimizer2 = optimizers.Adam()\n",
    "optimizer2.setup(second_net)\n",
    "\n",
    "optimizer3 = optimizers.Adam()\n",
    "optimizer3.setup(second_net2)\n",
    "\n",
    "optimizer4 = optimizers.Adam()\n",
    "optimizer4.setup(third_net)"
   ]
  },
  {
   "cell_type": "markdown",
   "metadata": {},
   "source": [
    "## Training"
   ]
  },
  {
   "cell_type": "code",
   "execution_count": 189,
   "metadata": {},
   "outputs": [],
   "source": [
    "loss_record = []\n",
    "f1_record = []\n",
    "for i in range(80):\n",
    "    first_net.cleargrads()\n",
    "    second_net.cleargrads()\n",
    "    second_net2.cleargrads()\n",
    "    third_net.cleargrads()\n",
    "    second_net.reset()\n",
    "    second_net2.reset()\n",
    "\n",
    "    f1 = first_net(word_vec)\n",
    "    split_ix = np.argmax(f1.data,axis=1) \n",
    "\n",
    "    word1 = np.array([word[:np.int(ix)] for word,ix in zip(training_data,split_ix)])\n",
    "    word2 = np.array([word[np.int(ix):] for word,ix in zip(training_data,split_ix)])\n",
    "\n",
    "    word1 = F.pad_sequence(word1,padding=-1)\n",
    "    word2 = F.pad_sequence(word2,padding=-1)\n",
    "\n",
    "    y1 = second_net(word1.T)\n",
    "    y2 = second_net2(word2.T)\n",
    "\n",
    "    loss = third_net(y1,y2,word_vec)\n",
    "    loss_record.append(float(loss.data))\n",
    "    loss.backward(retain_grad=True)\n",
    "\n",
    "    optimizer4.update()\n",
    "    optimizer3.update()\n",
    "    optimizer2.update()\n",
    "\n",
    "    f1_loss = F.concat([second_net.x.grad,second_net2.x.grad])\n",
    "    f1_loss = F.sum(F.absolute(f1_loss))\n",
    "    f1_record.append(float(f1_loss.data))\n",
    "    f1.grad = (f1 * f1_loss.data).data\n",
    "    f1.backward(retain_grad=True)\n",
    "    optimizer1.update()"
   ]
  },
  {
   "cell_type": "markdown",
   "metadata": {},
   "source": [
    "## Loss Obserbation"
   ]
  },
  {
   "cell_type": "code",
   "execution_count": 190,
   "metadata": {},
   "outputs": [
    {
     "data": {
      "image/png": "[encoded data removed]",
      "text/plain": [
       "<Figure size 432x288 with 1 Axes>"
      ]
     },
     "metadata": {},
     "output_type": "display_data"
    },
    {
     "data": {
      "image/png": "[encoded data removed]",
      "text/plain": [
       "<Figure size 432x288 with 1 Axes>"
      ]
     },
     "metadata": {},
     "output_type": "display_data"
    }
   ],
   "source": [
    "plt.plot(loss_record)\n",
    "plt.xlabel('Epoch')\n",
    "plt.ylabel('Loss')\n",
    "plt.title('The Mean Squares Error of third network')\n",
    "plt.show()\n",
    "\n",
    "plt.plot(f1_record)\n",
    "plt.xlabel('Epoch')\n",
    "plt.ylabel('Loss')\n",
    "plt.title('Backpropagated Loss of second network')\n",
    "plt.show()"
   ]
  },
  {
   "cell_type": "markdown",
   "metadata": {},
   "source": [
    "## A example of splitting word"
   ]
  },
  {
   "cell_type": "code",
   "execution_count": 191,
   "metadata": {},
   "outputs": [
    {
     "name": "stdout",
     "output_type": "stream",
     "text": [
      "['c', 'o', 'n', 'f', 'i']\n",
      "['r', 'm', 'e', 'd']\n"
     ]
    }
   ],
   "source": [
    "word1 = np.array([word[:np.int(ix)] for word,ix in zip(training_data,split_ix)])\n",
    "word2 = np.array([word[np.int(ix):] for word,ix in zip(training_data,split_ix)])\n",
    "print([chr(num+97) for num in word1[0]])\n",
    "print([chr(num+97) for num in word2[0]])"
   ]
  },
  {
   "cell_type": "code",
   "execution_count": null,
   "metadata": {},
   "outputs": [],
   "source": []
  },
  {
   "cell_type": "code",
   "execution_count": null,
   "metadata": {},
   "outputs": [],
   "source": []
  },
  {
   "cell_type": "code",
   "execution_count": null,
   "metadata": {},
   "outputs": [],
   "source": []
  },
  {
   "cell_type": "code",
   "execution_count": null,
   "metadata": {},
   "outputs": [],
   "source": []
  },
  {
   "cell_type": "code",
   "execution_count": null,
   "metadata": {},
   "outputs": [],
   "source": []
  }
 ],
 "metadata": {
  "kernelspec": {
   "display_name": "Python 3",
   "language": "python",
   "name": "python3"
  },
  "language_info": {
   "codemirror_mode": {
    "name": "ipython",
    "version": 3
   },
   "file_extension": ".py",
   "mimetype": "text/x-python",
   "name": "python",
   "nbconvert_exporter": "python",
   "pygments_lexer": "ipython3",
   "version": "3.6.5"
  }
 },
 "nbformat": 4,
 "nbformat_minor": 2
}
