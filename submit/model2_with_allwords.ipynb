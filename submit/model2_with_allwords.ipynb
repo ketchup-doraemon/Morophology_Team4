{
 "cells": [
  {
   "cell_type": "code",
   "execution_count": 1,
   "metadata": {},
   "outputs": [],
   "source": [
    "__author__ = 'Team_4'\n",
    "__Date__ = 'December 2018'"
   ]
  },
  {
   "cell_type": "markdown",
   "metadata": {},
   "source": [
    "## Load Modules"
   ]
  },
  {
   "cell_type": "code",
   "execution_count": 6,
   "metadata": {},
   "outputs": [],
   "source": [
    "import warnings\n",
    "warnings.filterwarnings('ignore')\n",
    "\n",
    "import numpy as np\n",
    "import pandas as pd\n",
    "import matplotlib.pyplot as plt\n",
    "from chainer import Chain, Variable, optimizers\n",
    "import chainer.functions as F\n",
    "import chainer.links as L\n",
    "from copy import deepcopy\n",
    "\n",
    "import os\n",
    "__dir__ = os.getcwd()[:-11]"
   ]
  },
  {
   "cell_type": "markdown",
   "metadata": {},
   "source": [
    "## The LSTM Model"
   ]
  },
  {
   "cell_type": "code",
   "execution_count": 63,
   "metadata": {},
   "outputs": [],
   "source": [
    "class LSTM(Chain):\n",
    "    def __init__(self, in_size, hidden_size, hidden2_size, out_size):\n",
    "        super(LSTM, self).__init__(\n",
    "            xh=L.EmbedID(in_size, hidden_size),\n",
    "            hh=L.LSTM(hidden_size, hidden2_size),\n",
    "            hh2=L.Linear(hidden2_size, hidden2_size),\n",
    "            hy=L.Linear(hidden2_size, out_size),\n",
    "        )\n",
    "\n",
    "    def __call__(self, x, t):\n",
    "        x = Variable(x)\n",
    "        t = Variable(t)\n",
    "\n",
    "        h = self.xh(x)\n",
    "        h = F.dropout(h,0.3)\n",
    "        h = F.tanh(h)\n",
    "        h = self.hh(h)\n",
    "        h = self.hh2(h)\n",
    "        h = F.dropout(h,0.3)\n",
    "        y = F.relu(self.hy(h))\n",
    "\n",
    "        return F.softmax_cross_entropy(y, t)\n",
    "\n",
    "    def predict(self, x):\n",
    "        x = Variable(x)\n",
    "\n",
    "        h = self.xh(x)\n",
    "        h = F.tanh(h)\n",
    "        h = self.hh(h)\n",
    "        h = self.hh2(h)\n",
    "        h = F.relu(self.hy(h))\n",
    "        y = F.softmax(h)\n",
    "\n",
    "        return y.data\n",
    "\n",
    "    def reset(self):\n",
    "        self.hh.reset_state()"
   ]
  },
  {
   "cell_type": "markdown",
   "metadata": {},
   "source": [
    "## Functions for arrangement"
   ]
  },
  {
   "cell_type": "code",
   "execution_count": 64,
   "metadata": {},
   "outputs": [],
   "source": [
    "def padding(sentences):\n",
    "    max_len = np.max([len(s) for s in sentences])\n",
    "    paded_vec = []\n",
    "    for sentence in sentences:\n",
    "        pad_len = max_len - len(sentence)\n",
    "        pad_vec = [26] * pad_len\n",
    "        sentence.extend(pad_vec)\n",
    "        paded_vec.append(sentence)\n",
    "\n",
    "    return np.array(paded_vec,dtype=np.int32)\n",
    "\n",
    "def one_hot_encoding(indices,n_class=27):\n",
    "    return np.eye(n_class)[indices]\n",
    "\n",
    "def word_to_index(word):\n",
    "    word_index = [ord (char) - 97 for char in word]\n",
    "    return word_index"
   ]
  },
  {
   "cell_type": "markdown",
   "metadata": {},
   "source": [
    "## Preparing the dataset and convert it to vector expression"
   ]
  },
  {
   "cell_type": "code",
   "execution_count": 16,
   "metadata": {},
   "outputs": [],
   "source": [
    "df = pd.read_csv(__dir__ + 'data/split_point_2.csv',index_col=0)\n",
    "training_data = np.random.permutation(df.columns.values)\n",
    "training_data = [word_to_index(x) for x in training_data]"
   ]
  },
  {
   "cell_type": "markdown",
   "metadata": {},
   "source": [
    "## Defining the LSTM model and setting the optimizer"
   ]
  },
  {
   "cell_type": "code",
   "execution_count": 17,
   "metadata": {},
   "outputs": [
    {
     "data": {
      "text/plain": [
       "<chainer.optimizers.adam.Adam at 0x1fcf5a6f080>"
      ]
     },
     "execution_count": 17,
     "metadata": {},
     "output_type": "execute_result"
    }
   ],
   "source": [
    "model = LSTM(27,50,10,27)\n",
    "optimizer = optimizers.Adam()\n",
    "optimizer.setup(model)"
   ]
  },
  {
   "cell_type": "markdown",
   "metadata": {},
   "source": [
    "## Training"
   ]
  },
  {
   "cell_type": "code",
   "execution_count": 18,
   "metadata": {},
   "outputs": [
    {
     "data": {
      "image/png": "[encoded data removed]",
      "text/plain": [
       "<Figure size 432x288 with 1 Axes>"
      ]
     },
     "metadata": {},
     "output_type": "display_data"
    }
   ],
   "source": [
    "loss_record = []\n",
    "for i in range(1000):\n",
    "    model.reset()\n",
    "    model.cleargrads()\n",
    "    training_sample = deepcopy(np.random.permutation(training_data))\n",
    "    training_sample = padding(training_data).T\n",
    "    loss = 0\n",
    "    trainX = training_sample[:-1]\n",
    "    trainY = training_sample[1:]\n",
    "    for X,Y in zip(trainX,trainY):\n",
    "        loss += model(X,Y)\n",
    "\n",
    "    loss_record.append(float(loss.data))\n",
    "    loss.backward()\n",
    "    optimizer.update()\n",
    "\n",
    "plt.plot(loss_record)\n",
    "plt.xlabel('Epoch')\n",
    "plt.ylabel('Loss')\n",
    "plt.title('Cross Entropy Loss of Model2')\n",
    "plt.show()"
   ]
  },
  {
   "cell_type": "code",
   "execution_count": 30,
   "metadata": {},
   "outputs": [
    {
     "name": "stdout",
     "output_type": "stream",
     "text": [
      "input q : [('e', 0.07451), ('p', 0.04977), ('u', 0.04777)]\n",
      "input e : [('r', 0.16706), ('n', 0.10005), ('m', 0.08876)]\n",
      "input r : [('e', 0.12631), ('i', 0.10889), ('a', 0.10208)]\n",
      "input e : [('s', 0.14766), ('d', 0.1434), ('r', 0.13065)]\n",
      "input s : [('end', 0.22671), ('i', 0.1388), ('s', 0.13801)]\n"
     ]
    }
   ],
   "source": [
    "char = np.array(word_to_index('q'))\n",
    "model.reset()\n",
    "model.train = False\n",
    "\n",
    "while True:\n",
    "    y = model.predict(char)\n",
    "\n",
    "    pred = np.apply_along_axis(chr,0, np.argsort(y) + 97)[::-1]\n",
    "    pred = np.where(pred=='{','end',pred)\n",
    "    prob = np.sort(y)[0][::-1]\n",
    "    prob = np.round(prob,5)\n",
    "    cadidate = [(char,p) for char,p in zip(pred[:3],prob[:3])]\n",
    "    print('input',chr(char[0]+97),':',cadidate)\n",
    "\n",
    "    char = np.array([np.argmax(y)], dtype=np.int32)\n",
    "\n",
    "    if char[0] == 26:\n",
    "        break"
   ]
  },
  {
   "cell_type": "code",
   "execution_count": 62,
   "metadata": {},
   "outputs": [
    {
     "name": "stdout",
     "output_type": "stream",
     "text": [
      "input c : var: 0.00734 0.00734 {'o': 0.45271, 'h': 0.12432, 'e': 0.07645}\n",
      "input r : var: 0.00476 -0.00224 {'e': 0.29603, 'o': 0.21146, 'i': 0.13978}\n",
      "input e : var: 0.00069 -0.00431 {'r': 0.09742, 'n': 0.08136, 'a': 0.08105}\n",
      "input a : var: 0.00208 0.00108 {'n': 0.17934, 'r': 0.15016, 't': 0.10184}\n",
      "input t : var: 0.00389 0.00189 {'e': 0.28579, 'i': 0.18265, 'a': 0.10825}\n",
      "input e : var: 0.00388 -0.00012 {'d': 0.23582, 'r': 0.16114, 'n': 0.15939}\n",
      "input d : var: 0.03069 0.02669 {'end': 0.92988, 's': 0.02474, 'e': 0.01599}\n"
     ]
    }
   ],
   "source": [
    "model.reset()\n",
    "word = 'created'\n",
    "word_ix = word_to_index(word)\n",
    "cr_prob = []\n",
    "var = 0\n",
    "for char_ix in word_ix:\n",
    "    y = model.predict(np.array([char_ix]))\n",
    "    pred = np.apply_along_axis(chr, 0, np.argsort(y) + 97)[::-1]\n",
    "    pred = np.where(pred=='{','end',pred)\n",
    "    prob = np.sort(y)[0][::-1]\n",
    "    prob = np.round(prob,5)\n",
    "    cadidate = {char:p for char,p in zip(pred[:3],prob[:3])}\n",
    "    print('input',chr(char_ix+97),':','var:',np.round(np.var(prob),5),np.round(np.var(prob)-var,5),cadidate,)\n",
    "    var = np.round(np.var(prob),3)\n",
    "\n",
    "    cr_prob.append(prob[0])"
   ]
  },
  {
   "cell_type": "code",
   "execution_count": null,
   "metadata": {},
   "outputs": [],
   "source": []
  },
  {
   "cell_type": "code",
   "execution_count": null,
   "metadata": {},
   "outputs": [],
   "source": []
  }
 ],
 "metadata": {
  "kernelspec": {
   "display_name": "Python 3",
   "language": "python",
   "name": "python3"
  },
  "language_info": {
   "codemirror_mode": {
    "name": "ipython",
    "version": 3
   },
   "file_extension": ".py",
   "mimetype": "text/x-python",
   "name": "python",
   "nbconvert_exporter": "python",
   "pygments_lexer": "ipython3",
   "version": "3.7.1"
  }
 },
 "nbformat": 4,
 "nbformat_minor": 2
}
