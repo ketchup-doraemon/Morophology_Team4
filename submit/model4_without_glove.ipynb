{
 "cells": [
  {
   "cell_type": "code",
   "execution_count": 9,
   "metadata": {},
   "outputs": [],
   "source": [
    "__author__ = 'Team_4'\n",
    "__Date__ = 'January 2019'"
   ]
  },
  {
   "cell_type": "code",
   "execution_count": 10,
   "metadata": {},
   "outputs": [],
   "source": [
    "import warnings\n",
    "warnings.filterwarnings('ignore')\n",
    "\n",
    "import pandas as pd\n",
    "import numpy as np\n",
    "from matplotlib import pyplot as plt\n",
    "\n",
    "from chainer import Chain, Variable, optimizers, serializers\n",
    "import chainer.functions as F\n",
    "import chainer.links as L\n",
    "\n",
    "import os\n",
    "__dir__ = os.getcwd()[:-11]"
   ]
  },
  {
   "cell_type": "code",
   "execution_count": 11,
   "metadata": {},
   "outputs": [],
   "source": [
    "def word_to_index(word):\n",
    "    word_index = [ord (char) - 97 for char in word]\n",
    "    return word_index\n",
    "\n",
    "\n",
    "def one_hot_encoding(indices, n_class=27):\n",
    "    return np.eye(n_class)[indices]\n",
    "\n",
    "def padding(sentences):\n",
    "    max_len = np.max([len(s) for s in sentences])\n",
    "    paded_vec = []\n",
    "    for sentence in sentences:\n",
    "        pad_len = max_len - len(sentence)\n",
    "        pad_vec = [26] * pad_len\n",
    "        sentence.extend(pad_vec)\n",
    "        paded_vec.append(sentence)\n",
    "\n",
    "    return np.array(paded_vec, dtype=np.int32)"
   ]
  },
  {
   "cell_type": "code",
   "execution_count": 21,
   "metadata": {},
   "outputs": [],
   "source": [
    "class LSTM(Chain):\n",
    "    def __init__(self, in_size, hidden_size,out_size):\n",
    "        super(LSTM, self).__init__(\n",
    "            h1 = L.NStepLSTM (\n",
    "                n_layers=2,\n",
    "                in_size=in_size,\n",
    "                out_size=hidden_size,\n",
    "                dropout=0.5),\n",
    "            hy = L.Linear(hidden_size*17,out_size))\n",
    "\n",
    "\n",
    "    def __call__(self,input_data):\n",
    "        input_x = [Variable(x) for x in input_data]\n",
    "        hx,cx,y = self.h1(None,None,input_x)\n",
    "        y2 = [F.concat(x, axis=0) for x in F.pad_sequence(y,length=17, padding=0.)]\n",
    "        y2 = F.concat([F.expand_dims(x,axis=0) for x in y2],axis=0)\n",
    "\n",
    "        out = self.hy(y2)\n",
    "\n",
    "        return out\n",
    "\n",
    "    def predict(self,word):\n",
    "        test_vec = word_to_index(word)\n",
    "        test_vec = one_hot_encoding(test_vec).astype(np.float32)\n",
    "        res = model([test_vec])[0]\n",
    "        return F.argmax(res, axis=1)\n"
   ]
  },
  {
   "cell_type": "code",
   "execution_count": 22,
   "metadata": {},
   "outputs": [],
   "source": [
    "df = pd.read_csv(__dir__ + 'data/split_point_2.csv',index_col=0)\n",
    "df = df[np.random.permutation(df.columns)]\n",
    "original_data = [word_to_index(x) for x in df.columns]\n",
    "original_data = [one_hot_encoding(x).astype(np.float32) for x in original_data]\n",
    "\n",
    "split_point = np.nan_to_num(df,0).T"
   ]
  },
  {
   "cell_type": "code",
   "execution_count": 30,
   "metadata": {},
   "outputs": [
    {
     "data": {
      "text/plain": [
       "<chainer.optimizers.adam.Adam at 0x28094d60390>"
      ]
     },
     "execution_count": 30,
     "metadata": {},
     "output_type": "execute_result"
    }
   ],
   "source": [
    "model = LSTM(27,30,17)\n",
    "optimizer = optimizers.Adam()\n",
    "optimizer.setup(model)"
   ]
  },
  {
   "cell_type": "code",
   "execution_count": 31,
   "metadata": {},
   "outputs": [],
   "source": [
    "trainX = original_data[:1500]\n",
    "testX = original_data[1500:]\n",
    "trainY = split_point[:1500].astype(np.float32)\n",
    "testY = split_point[1500:].astype(np.float32)"
   ]
  },
  {
   "cell_type": "code",
   "execution_count": 32,
   "metadata": {},
   "outputs": [],
   "source": [
    "train_loss_record = []\n",
    "test_loss_record = []\n",
    "for i in range(200):\n",
    "    model.cleargrads()\n",
    "    res = model(trainX)\n",
    "    train_loss = F.mean_squared_error(res,trainY)\n",
    "    train_loss.backward()\n",
    "    train_loss_record.append(float(train_loss.data))\n",
    "    optimizer.update()\n",
    "\n",
    "    res = model(testX)22\n",
    "    test_loss = F.mean_squared_error(res,testY)\n",
    "    test_loss_record.append(float(test_loss.data))"
   ]
  },
  {
   "cell_type": "code",
   "execution_count": 35,
   "metadata": {},
   "outputs": [
    {
     "data": {
      "image/png": "[encoded data removed]",
      "text/plain": [
       "<Figure size 432x288 with 1 Axes>"
      ]
     },
     "metadata": {},
     "output_type": "display_data"
    }
   ],
   "source": [
    "model.train = False\n",
    "\n",
    "plt.plot(np.array(train_loss_record))\n",
    "plt.plot(np.array(test_loss_record))\n",
    "plt.xlabel('Epoch')\n",
    "plt.ylabel('Loss')\n",
    "plt.legend(['train_loss','test_loss'])\n",
    "plt.title('Mean Squares Error of attention model')\n",
    "plt.show()"
   ]
  },
  {
   "cell_type": "code",
   "execution_count": 36,
   "metadata": {},
   "outputs": [
    {
     "name": "stdout",
     "output_type": "stream",
     "text": [
      "train_accuracy: 86.13333333333334\n",
      "test_accuracy: 81.15330520393812\n"
     ]
    }
   ],
   "source": [
    "train_accuracy = 100*np.sum(np.argmax(model(trainX).data, axis=1)==np.argmax(trainY,axis=1))/len(trainX)\n",
    "test_accuracy = 100*np.sum(np.argmax(model(testX).data, axis=1)==np.argmax(testY,axis=1))/len(testX)\n",
    "\n",
    "print('train_accuracy:',train_accuracy)\n",
    "print('test_accuracy:',test_accuracy)"
   ]
  },
  {
   "cell_type": "code",
   "execution_count": null,
   "metadata": {},
   "outputs": [],
   "source": []
  },
  {
   "cell_type": "code",
   "execution_count": null,
   "metadata": {},
   "outputs": [],
   "source": []
  }
 ],
 "metadata": {
  "kernelspec": {
   "display_name": "Python 3",
   "language": "python",
   "name": "python3"
  },
  "language_info": {
   "codemirror_mode": {
    "name": "ipython",
    "version": 3
   },
   "file_extension": ".py",
   "mimetype": "text/x-python",
   "name": "python",
   "nbconvert_exporter": "python",
   "pygments_lexer": "ipython3",
   "version": "3.7.1"
  }
 },
 "nbformat": 4,
 "nbformat_minor": 2
}
