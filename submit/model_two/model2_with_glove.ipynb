{
 "cells": [
  {
   "cell_type": "code",
   "execution_count": 322,
   "metadata": {},
   "outputs": [],
   "source": [
    "__author__ = 'Team_4'\n",
    "__Date__ = 'December 2018'"
   ]
  },
  {
   "cell_type": "markdown",
   "metadata": {},
   "source": [
    "## Loading Modules"
   ]
  },
  {
   "cell_type": "code",
   "execution_count": 323,
   "metadata": {},
   "outputs": [],
   "source": [
    "import warnings\n",
    "warnings.filterwarnings('ignore')\n",
    "\n",
    "import numpy as np\n",
    "import pandas as pd\n",
    "import matplotlib.pyplot as plt\n",
    "from chainer import Chain, Variable, optimizers\n",
    "import chainer.functions as F\n",
    "import chainer.links as L\n",
    "from copy import deepcopy\n",
    "\n",
    "from gensim.models.keyedvectors import KeyedVectors\n",
    "\n",
    "import os\n",
    "__dir__ = os.getcwd()[:-11]"
   ]
  },
  {
   "cell_type": "markdown",
   "metadata": {},
   "source": [
    "## The LSTM Model"
   ]
  },
  {
   "cell_type": "code",
   "execution_count": 324,
   "metadata": {},
   "outputs": [],
   "source": [
    "class LSTM(Chain):\n",
    "    def __init__(self, in_size, hidden_size,out_size):\n",
    "        super(LSTM, self).__init__(\n",
    "            h1 = L.NStepLSTM (\n",
    "                n_layers=1,\n",
    "                in_size=in_size,\n",
    "                out_size=hidden_size,\n",
    "                dropout=0.5),\n",
    "            hy = L.Linear(hidden_size,out_size))\n",
    "\n",
    "\n",
    "    def __call__(self,input_data,hx=None):\n",
    "        if np.any(hx):\n",
    "            hx = hx.reshape(1,-1,self.h1.out_size)\n",
    "        input_x = [Variable(x) for x in input_data]\n",
    "        hx,cx,y = self.h1(hx,None,input_x)\n",
    "        out = [self.hy(item) for item in y]\n",
    "        return out\n",
    "\n",
    "    def predict(self,word,hx=None):\n",
    "        test_vec = word_to_index(word)\n",
    "        test_vec = one_hot_encoding(test_vec).astype(np.float32)\n",
    "        res = self([test_vec],hx)[0]\n",
    "        return F.softmax(res)"
   ]
  },
  {
   "cell_type": "markdown",
   "metadata": {},
   "source": [
    "## Functions for arrangement"
   ]
  },
  {
   "cell_type": "code",
   "execution_count": 325,
   "metadata": {},
   "outputs": [],
   "source": [
    "def padding(sentences):\n",
    "    max_len = np.max([len(s) for s in sentences])\n",
    "    paded_vec = []\n",
    "    for sentence in sentences:\n",
    "        pad_len = max_len - len(sentence)\n",
    "        pad_vec = [26] * pad_len\n",
    "        sentence.extend(pad_vec)\n",
    "        paded_vec.append(sentence)\n",
    "\n",
    "    return np.array(paded_vec,dtype=np.int32)\n",
    "\n",
    "def one_hot_encoding(indices,n_class=27):\n",
    "    return np.eye(n_class)[indices]\n",
    "\n",
    "def word_to_index(word,end=True):\n",
    "    word_index = [ord (char) - 97 for char in word]\n",
    "    if end:\n",
    "        word_index.extend([26])\n",
    "    return word_index"
   ]
  },
  {
   "cell_type": "markdown",
   "metadata": {},
   "source": [
    "## Preparing the dataset and convert it to vector expression"
   ]
  },
  {
   "cell_type": "code",
   "execution_count": 475,
   "metadata": {},
   "outputs": [],
   "source": [
    "df = pd.read_csv(__dir__ + 'data/suffled_split_point.csv',index_col=0)\n",
    "#df = df[np.random.permutation(df.columns.values)]\n",
    "#df.to_csv(__dir__ + 'suffled_spit_point.csv')"
   ]
  },
  {
   "cell_type": "markdown",
   "metadata": {},
   "source": [
    "## Sampling the training dataset "
   ]
  },
  {
   "cell_type": "code",
   "execution_count": 487,
   "metadata": {},
   "outputs": [],
   "source": [
    "df = df[df.columns[:1500]]\n",
    "training_data = [word_to_index(x) for x in df.columns]\n",
    "#reversed_training_data = [x[::-1] for x in training_data]\n",
    "#training_data.extend(reversed_training_data)"
   ]
  },
  {
   "cell_type": "markdown",
   "metadata": {},
   "source": [
    "## Data Arrangement"
   ]
  },
  {
   "cell_type": "code",
   "execution_count": 486,
   "metadata": {},
   "outputs": [],
   "source": [
    "word_vectors = KeyedVectors.load_word2vec_format(__dir__ + 'data/glove.6B.50d.bin')"
   ]
  },
  {
   "cell_type": "code",
   "execution_count": 488,
   "metadata": {},
   "outputs": [],
   "source": [
    "word_vec = np.array([word_vectors.get_vector(word) for word in df.columns], dtype=np.float32)\n",
    "#word_vec = np.tile(word_vec,(2,1))"
   ]
  },
  {
   "cell_type": "code",
   "execution_count": 489,
   "metadata": {},
   "outputs": [],
   "source": [
    "original_data = [word_to_index(x) for x in df.columns]\n",
    "original_data = [one_hot_encoding(x).astype(np.float32) for x in original_data]\n",
    "\n",
    "trainX = [data[:-1] for data in original_data]\n",
    "trainY = [F.argmax(data[1:],axis=1) for data in original_data]"
   ]
  },
  {
   "cell_type": "markdown",
   "metadata": {},
   "source": [
    "## Defining the LSTM model and setting the optimizer"
   ]
  },
  {
   "cell_type": "code",
   "execution_count": 490,
   "metadata": {},
   "outputs": [
    {
     "data": {
      "text/plain": [
       "<chainer.optimizers.adam.Adam at 0x24b45a9f7f0>"
      ]
     },
     "execution_count": 490,
     "metadata": {},
     "output_type": "execute_result"
    }
   ],
   "source": [
    "model = LSTM(27, 50, 27)\n",
    "optimizer = optimizers.Adam()\n",
    "optimizer.setup(model)"
   ]
  },
  {
   "cell_type": "code",
   "execution_count": null,
   "metadata": {
    "scrolled": true
   },
   "outputs": [],
   "source": []
  },
  {
   "cell_type": "markdown",
   "metadata": {},
   "source": [
    "## Training"
   ]
  },
  {
   "cell_type": "code",
   "execution_count": 491,
   "metadata": {},
   "outputs": [],
   "source": [
    "model.train = True\n",
    "loss_record = []\n",
    "for i in range(2000):\n",
    "    model.cleargrads()\n",
    "    pred = model(trainX,word_vec)\n",
    "    loss = 0\n",
    "    for X,Y in zip(pred,trainY):\n",
    "        loss += F.softmax_cross_entropy(X,Y)\n",
    "\n",
    "    loss_record.append(float(loss.data))\n",
    "    loss.backward()\n",
    "    optimizer.update()"
   ]
  },
  {
   "cell_type": "code",
   "execution_count": 494,
   "metadata": {},
   "outputs": [
    {
     "data": {
      "image/png": "[encoded data removed]",
      "text/plain": [
       "<Figure size 432x288 with 1 Axes>"
      ]
     },
     "metadata": {},
     "output_type": "display_data"
    }
   ],
   "source": [
    "plt.plot(loss_record)\n",
    "plt.xlabel('Epoch')\n",
    "plt.ylabel('Loss')\n",
    "plt.title('Cross Entropy Loss of Model 2 beta')\n",
    "plt.show()"
   ]
  },
  {
   "cell_type": "code",
   "execution_count": 520,
   "metadata": {},
   "outputs": [
    {
     "name": "stdout",
     "output_type": "stream",
     "text": [
      "input t : {'o': 0.33372, 'e': 0.27056, 'h': 0.16133} confidence Flu.: 1.0\n",
      "input e : {'r': 0.79984, 'd': 0.04072, 'l': 0.04067} confidence Flu.: 143.07\n",
      "input s : {'t': 0.58885, 'h': 0.20045, 'c': 0.11182} confidence Flu.: -106.35\n",
      "input t : {'u': 0.8186, 'r': 0.07511, 'i': 0.04182} confidence Flu.: 100.48\n",
      "input s : {'end': 0.5965, 'u': 0.28697, 'y': 0.05886} confidence Flu.: -114.24\n"
     ]
    }
   ],
   "source": [
    "model.train = False\n",
    "\n",
    "#df = pd.read_csv(__dir__ + 'data/suffled_spit_point.csv',index_col=0)\n",
    "target = df.columns[0]\n",
    "hidden = word_vectors.get_vector(target)\n",
    "res = model.predict(target,hidden).data[:-1]\n",
    "res = model.predict(target).data[:-1]\n",
    "\n",
    "pre_state = 0\n",
    "for i,proba in enumerate(res):\n",
    "    proba = np.array([proba])\n",
    "    pred = np.apply_along_axis(chr,0, np.argsort(proba) + 97)[::-1]\n",
    "    proba = np.sort(proba)[0][::-1]\n",
    "    pred = np.where(pred=='{','end',pred)\n",
    "    prob = np.round(proba,5)\n",
    "    cadidate = {char:p for char,p in zip(pred,prob)}\n",
    "    top_cadidate = {char:p for char,p in zip(pred[:3],prob[:3])}\n",
    "    confidence =  np.var(prob[:2])\n",
    "    try:\n",
    "        occurrence_prob = cadidate[target[i+1]]\n",
    "    except:\n",
    "        occurrence_prob = cadidate['end']\n",
    "    conf = np.sum(prob > 0.3)\n",
    "    \n",
    "    confidence_diff = np.round(1000*(confidence-pre_state),2)\n",
    "    print('input {} :'.format(target[i]),top_cadidate,'confidence Flu.:',confidence_diff)\n",
    "    pre_state = confidence"
   ]
  },
  {
   "cell_type": "markdown",
   "metadata": {},
   "source": [
    "## Saving the model"
   ]
  },
  {
   "cell_type": "code",
   "execution_count": 510,
   "metadata": {},
   "outputs": [],
   "source": [
    "from chainer import serializers\n",
    "serializers.save_npz(__dir__ + 'data/model_2_beta',model)"
   ]
  },
  {
   "cell_type": "code",
   "execution_count": 517,
   "metadata": {},
   "outputs": [
    {
     "data": {
      "text/plain": [
       "'declines'"
      ]
     },
     "execution_count": 517,
     "metadata": {},
     "output_type": "execute_result"
    }
   ],
   "source": [
    "target"
   ]
  },
  {
   "cell_type": "code",
   "execution_count": null,
   "metadata": {},
   "outputs": [],
   "source": []
  }
 ],
 "metadata": {
  "kernelspec": {
   "display_name": "Python 3",
   "language": "python",
   "name": "python3"
  },
  "language_info": {
   "codemirror_mode": {
    "name": "ipython",
    "version": 3
   },
   "file_extension": ".py",
   "mimetype": "text/x-python",
   "name": "python",
   "nbconvert_exporter": "python",
   "pygments_lexer": "ipython3",
   "version": "3.7.1"
  }
 },
 "nbformat": 4,
 "nbformat_minor": 2
}
