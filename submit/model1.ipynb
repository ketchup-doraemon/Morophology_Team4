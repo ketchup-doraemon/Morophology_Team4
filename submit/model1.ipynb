{
 "cells": [
  {
   "cell_type": "code",
   "execution_count": 1,
   "metadata": {},
   "outputs": [],
   "source": [
    "__author__ = 'Team_4'\n",
    "__Date__ = 'December 2018'"
   ]
  },
  {
   "cell_type": "markdown",
   "metadata": {},
   "source": [
    "## Load Modules"
   ]
  },
  {
   "cell_type": "code",
   "execution_count": 20,
   "metadata": {},
   "outputs": [],
   "source": [
    "from collections import defaultdict\n",
    "from matplotlib import pyplot as plt\n",
    "import networkx as nx\n",
    "import numpy as np\n",
    "from copy import deepcopy\n",
    "from collections import Counter\n",
    "import os\n",
    "__dir__ = os.getcwd()[:-11]\n",
    "\n",
    "from gensim.models.keyedvectors import KeyedVectors\n",
    "word_vectors = KeyedVectors.load_word2vec_format(__dir__ + 'data/glove.6B.100d.bin')\n",
    "\n",
    "import warnings\n",
    "warnings.filterwarnings('ignore')\n"
   ]
  },
  {
   "cell_type": "markdown",
   "metadata": {},
   "source": [
    "## Functions "
   ]
  },
  {
   "cell_type": "code",
   "execution_count": 21,
   "metadata": {},
   "outputs": [],
   "source": [
    "def make_pairs(words, max_len =6):\n",
    "    patterns = defaultdict(list)\n",
    "\n",
    "    for word in words:\n",
    "        for second_word in words:\n",
    "            if word != second_word:\n",
    "                i = 1\n",
    "                while(word[:i]==second_word[:i]):\n",
    "                    i += 1\n",
    "                if i != 1 and i > max(len(word[i-1:]), len(second_word[i-1:])) < max_len:\n",
    "                    if (\"suffix\", word[i-1:], second_word[i-1:]) in patterns:\n",
    "                        patterns[(\"suffix\", word[i-1:], second_word[i-1:])].append((word, second_word))\n",
    "                    else:\n",
    "                        patterns[(\"suffix\", word[i-1:], second_word[i-1:])] = [(word, second_word)]\n",
    "                        \n",
    "                i = 1\n",
    "                while(word[-i:]==second_word[-i:]):\n",
    "                    i += 1\n",
    "                if i != 1 and max(len(word[:-i+1]), len(second_word[:-i+1])) < max_len:\n",
    "                    if (\"prefix\", word[:-i+1], second_word[:-i+1]) in patterns:\n",
    "                        patterns[(\"prefix\", word[:-i+1], second_word[:-i+1])].append((word, second_word))\n",
    "                    else:\n",
    "                        patterns[(\"prefix\", word[:-i+1], second_word[:-i+1])] = [(word, second_word)]\n",
    "                        \n",
    "    return patterns\n",
    "\n",
    "\n",
    "def molph_classify(thepairs,model,threshold=0.5,min_category=5):\n",
    "    new_pairs = defaultdict(list)\n",
    "\n",
    "    for key in thepairs:\n",
    "        cadidates = thepairs[key]\n",
    "        \n",
    "        similality = []\n",
    "        for pair in cadidates:\n",
    "            try:\n",
    "                cos_sim = model(pair[0],pair[1])\n",
    "            except:\n",
    "                pass\n",
    "            else: \n",
    "                if cos_sim > threshold:\n",
    "                    similality.append(pair + (cos_sim,))\n",
    "        \n",
    "        if len(similality) > min_category :\n",
    "             new_pairs[key] = similality\n",
    "             \n",
    "    return new_pairs\n",
    "\n",
    "\n",
    "def make_same_group(pairs,word):\n",
    "    pair_list = sum(list(pairs.values()),[])\n",
    "    group = [pair for pair in pair_list if word==(pair[0] or pair[1])]\n",
    "            \n",
    "    return group\n",
    "\n",
    "\n",
    "def plot_graph(pair_group):\n",
    "    G = nx.Graph()\n",
    "    for pair in pair_group:\n",
    "        G.add_nodes_from([pair[0],pair[1]])\n",
    "        G.add_edge(pair[0],pair[1])\n",
    "    \n",
    "    plt.figure(figsize=(7,7))\n",
    "    pos = nx.spring_layout(G,k=0.7)\n",
    "    nx.draw_networkx_nodes(G, pos, node_color='lightgray', node_size=5000.0)\n",
    "    nx.draw_networkx_edges(G, pos, width=2.5)\n",
    "    nx.draw_networkx_labels(G, pos, fontsize=25, font_weight=\"bold\")\n",
    "    plt.axis('on')\n",
    "    plt.show()\n",
    "    \n",
    "\n",
    "def get_hit_rate(pairs, words):\n",
    "    hit_word = []\n",
    "    pair_list = sum(list(pairs.values ()), [])\n",
    "    for word in words:\n",
    "        hit_word.extend([pair[1] for pair in pair_list if word == pair[0]])\n",
    "        hit_word.extend([pair[0] for pair in pair_list if word == pair[1]])\n",
    "\n",
    "    c = Counter(hit_word)\n",
    "    \n",
    "    return [(pair[0],int(pair[1]/2)) for pair in c.most_common(100)]\n",
    "    \n",
    "\n",
    "def clustering_group(pairs):\n",
    "    pair_list1 = [set(pair[0:2]) for pair in sum(list(pairs.values()), [])]\n",
    "    pair_list2 = deepcopy(pair_list1)\n",
    "    cluster_list = []\n",
    "    for pair1 in pair_list1[:]:\n",
    "        ald = False\n",
    "        for cluster in cluster_list:\n",
    "            if pair1 <= cluster:\n",
    "                ald = True\n",
    "        if ald:\n",
    "            continue\n",
    "\n",
    "        while True:\n",
    "            calc = False\n",
    "            for pair2 in pair_list2[:]:\n",
    "                if pair1 >= pair2:\n",
    "                    pass\n",
    "                elif not pair1.isdisjoint (pair2):\n",
    "                    pair1 = pair1 | pair2\n",
    "                    calc = True\n",
    "            if not calc:\n",
    "                cluster_list.append (pair1)\n",
    "                break\n",
    "\n",
    "    return cluster_list"
   ]
  },
  {
   "cell_type": "markdown",
   "metadata": {},
   "source": [
    "## The Dataset"
   ]
  },
  {
   "cell_type": "code",
   "execution_count": 22,
   "metadata": {},
   "outputs": [
    {
     "data": {
      "text/plain": [
       "['a', 'aaron', 'aau', 'abandoned', 'abandonment']"
      ]
     },
     "execution_count": 22,
     "metadata": {},
     "output_type": "execute_result"
    }
   ],
   "source": [
    "with open(__dir__ + 'data/english_brown.txt') as f:\n",
    "    data = f.read()\n",
    "    data = data.replace('.','')\n",
    "    data = data.replace(',','')\n",
    "    data = data.replace('\"\"','')\n",
    "    data = data.lower()\n",
    "\n",
    "all_words = data.split()\n",
    "words_set = np.unique(all_words)\n",
    "words_set = [word for word in words_set if word.isalpha()]\n",
    "words_set[:5]"
   ]
  },
  {
   "cell_type": "markdown",
   "metadata": {},
   "source": [
    "## Model for comparing consine similalities"
   ]
  },
  {
   "cell_type": "code",
   "execution_count": 23,
   "metadata": {},
   "outputs": [],
   "source": [
    "model = word_vectors.similarity"
   ]
  },
  {
   "cell_type": "markdown",
   "metadata": {},
   "source": [
    "## Making cadidates with same suffix and prefix"
   ]
  },
  {
   "cell_type": "code",
   "execution_count": 24,
   "metadata": {},
   "outputs": [],
   "source": [
    "original_pair = make_pairs(words_set, max_len =6)"
   ]
  },
  {
   "cell_type": "markdown",
   "metadata": {},
   "source": [
    "## Caluculating the cosine similalities to eliminate the unrelated words"
   ]
  },
  {
   "cell_type": "code",
   "execution_count": 25,
   "metadata": {},
   "outputs": [],
   "source": [
    "pairs = molph_classify(original_pair,model,threshold=0.7,min_category=5)"
   ]
  },
  {
   "cell_type": "markdown",
   "metadata": {},
   "source": [
    "## Graph"
   ]
  },
  {
   "cell_type": "code",
   "execution_count": 32,
   "metadata": {
    "scrolled": true
   },
   "outputs": [
    {
     "data": {
      "image/png": "[encoded data removed]",
      "text/plain": [
       "<Figure size 504x504 with 1 Axes>"
      ]
     },
     "metadata": {
      "needs_background": "light"
     },
     "output_type": "display_data"
    }
   ],
   "source": [
    "group = make_same_group(pairs,'allow')\n",
    "plot_graph(group)"
   ]
  },
  {
   "cell_type": "markdown",
   "metadata": {},
   "source": [
    "## Calculating Hit Rate"
   ]
  },
  {
   "cell_type": "code",
   "execution_count": 34,
   "metadata": {},
   "outputs": [
    {
     "data": {
      "text/plain": [
       "[('investigation', 4),\n",
       " ('investigate', 3),\n",
       " ('investigating', 3),\n",
       " ('investigated', 3),\n",
       " ('investigations', 1)]"
      ]
     },
     "execution_count": 34,
     "metadata": {},
     "output_type": "execute_result"
    }
   ],
   "source": [
    "group = clustering_group(pairs)\n",
    "get_hit_rate(pairs,group[100])"
   ]
  },
  {
   "cell_type": "code",
   "execution_count": null,
   "metadata": {},
   "outputs": [],
   "source": []
  },
  {
   "cell_type": "code",
   "execution_count": null,
   "metadata": {},
   "outputs": [],
   "source": []
  },
  {
   "cell_type": "code",
   "execution_count": null,
   "metadata": {},
   "outputs": [],
   "source": []
  }
 ],
 "metadata": {
  "kernelspec": {
   "display_name": "Python 3",
   "language": "python",
   "name": "python3"
  },
  "language_info": {
   "codemirror_mode": {
    "name": "ipython",
    "version": 3
   },
   "file_extension": ".py",
   "mimetype": "text/x-python",
   "name": "python",
   "nbconvert_exporter": "python",
   "pygments_lexer": "ipython3",
   "version": "3.7.1"
  }
 },
 "nbformat": 4,
 "nbformat_minor": 2
}
